{
 "cells": [
  {
   "cell_type": "code",
   "execution_count": 1,
   "metadata": {
    "collapsed": true
   },
   "outputs": [],
   "source": [
    "import numpy\n",
    "import time\n",
    "import pickle\n",
    "import operator\n",
    "from __future__ import print_function\n",
    "from IPython.display import display\n",
    "import matplotlib.pyplot as plt\n",
    "import plotly.plotly as py\n",
    "%matplotlib inline  "
   ]
  },
  {
   "cell_type": "code",
   "execution_count": 2,
   "metadata": {
    "collapsed": true,
    "scrolled": false
   },
   "outputs": [],
   "source": [
    "\n",
    "def load_file(filepath):\n",
    "    \"\"\"Reads a file into a list of phrases. Each phrase in the file must be separated with a new line character '\\n' \n",
    "    Args:\n",
    "        filepath (str): the relevant filepath of the file\n",
    "    Returns:\n",
    "        phrases (list(str)): A list with all the phrases \n",
    "    \"\"\"\n",
    "    with open(filepath, 'r') as f:\n",
    "        phrases = f.readlines()\n",
    "    return phrases\n",
    "\n",
    "src_file = load_file('data/file.de')\n",
    "trg_file = load_file('data/file.en')\n",
    "aligned_file = load_file('data/file.aligned')\n",
    "\n"
   ]
  },
  {
   "cell_type": "markdown",
   "metadata": {},
   "source": [
    "## Extract phrases and count orientations"
   ]
  },
  {
   "cell_type": "code",
   "execution_count": 3,
   "metadata": {
    "collapsed": true
   },
   "outputs": [],
   "source": [
    "\n",
    "\n",
    "def add_freq_dict(dictionary, key, value):\n",
    "    \"\"\"Increases the frequency of an phrase/item in the dictionary by 1, or adds it with a frequency of 1 if it doesn't exist yet\n",
    "    Args:\n",
    "        dictionary (dict): a dictionary that holds the frequency of an a phrase (item)\n",
    "        item (str): a string whose frequency will be increased\n",
    "    \"\"\"\n",
    "    if key in dictionary:\n",
    "            dictionary[key][0] = [x+y for x,y in zip(dictionary[key][0] , value[0])]\n",
    "            dictionary[key][1] = [x+y for x,y in zip(dictionary[key][1] , value[1])]\n",
    "            dictionary[key][2] = [x+y for x,y in zip(dictionary[key][2] , value[2])]\n",
    "            dictionary[key][3] = [x+y for x,y in zip(dictionary[key][3] , value[3])]\n",
    "            dictionary[key][4] += 1\n",
    "    else:\n",
    "        dictionary[key] = value\n",
    "        dictionary[key].append(1)\n",
    "\n",
    "def extract(trg_start, trg_end, src_start, src_end, alignments, trg_aligned, trg_len):    \n",
    "    \"\"\" Checks if the subphrases of the source and target language are a consistent pair, \n",
    "        assuming that no word in the source language is aligned with a word of the target language  outside the boundaries\n",
    "    Args:\n",
    "        trg_start (int): The target subphrase's first word position\n",
    "        trg_end (int): The target subphrase's last word position\n",
    "        src_start (int): The source subphrase's first word position\n",
    "        src_end (int): The source subphrase's last word position\n",
    "        alignments (list(tuple(int))): The alignment between the \n",
    "        trg_aligned (set(str)): A set with all the target language words that are aligned with at least one source word \n",
    "        trg_len (int): The number of words of the target language phrase\n",
    "        \n",
    "    Returns:\n",
    "        E (list(tuple(str))): A list with all of the extracted phrase pairs (f,e). This is the base (f,e) specified by the arguement and pairs that have a words appended on 'e' that are unaligned \n",
    "        A (list(list(tuple(int)))): A list with the alignment of the respective pair at E (A[i] has the alignments of E[i]) \n",
    "\n",
    "    \"\"\"\n",
    "    if trg_end < 0 :\n",
    "        return [], []\n",
    "    \n",
    "    A = []\n",
    "    \n",
    "    a = []\n",
    "    \n",
    "    for trg_word, src_word  in alignments:\n",
    "        if trg_start <= trg_word <= trg_end:\n",
    "            \n",
    "            if (src_word < src_start or src_word > src_end):  \n",
    "                return [], []\n",
    "            else:\n",
    "                \n",
    "                a.append((trg_word - trg_start, src_word - src_start))\n",
    "\n",
    "    E = []\n",
    "    trg_s = trg_start\n",
    "    \n",
    "    while True:\n",
    "        trg_e = trg_end\n",
    "        while True:\n",
    "            E.append([src_start, src_end, trg_s, trg_e])\n",
    "            \n",
    "            A.append(a)\n",
    "             \n",
    "            return E, A\n",
    "        \n",
    "            trg_e += 1\n",
    "            \n",
    "            if trg_e in trg_aligned or trg_e == len(trg_words):\n",
    "                break \n",
    "\n",
    "        trg_s -= 1\n",
    "        \n",
    "        if trg_s in trg_aligned or trg_s < 0:\n",
    "            break\n",
    "            \n",
    "        # if an unaligned word was added at the beginning, increase the alignments positions by 1 \n",
    "       \n",
    "        a = [(i[0]+1,i[1]) for i in a]\n",
    "        \n",
    "    return E, A\n",
    "\n",
    "\n",
    "def extract_phrases(src_words, trg_words, alignments, cutoff):\n",
    "    \"\"\"\n",
    "    Args:\n",
    "        src_words (list(str)):\n",
    "        trg_words (list(str)):\n",
    "        alignments (list(tuple(int))):\n",
    "        cutoff (int): \n",
    "        \n",
    "    Returns:\n",
    "        extracted_phrases (list(tuple(str))):\n",
    "        extracted_alignments (list(tuple(int))):\n",
    "    \"\"\"\n",
    "    \n",
    "    if cutoff == -1:\n",
    "        cutoff = len(src_words)\n",
    "        \n",
    "        \n",
    "    trg_aligned = set()\n",
    "    for (trg,_) in alignments:\n",
    "        trg_aligned.add(trg)\n",
    "    \n",
    "    \n",
    "    extracted_phrases = []\n",
    "    extracted_alignments = []\n",
    "    # for every possible \n",
    "    for src_start in range(len(src_words)):\n",
    "        for src_end in range(src_start, min(src_start + cutoff, len(src_words))):\n",
    "\n",
    "            #Find the min and max position of the target words that the source phrase is aligned to\n",
    "            trg_start = len(trg_words) - 1\n",
    "            trg_end = - 1\n",
    "            for  (trg,src) in alignments: \n",
    "                if src_start <= src <= src_end:\n",
    "                    trg_start = min(trg, trg_start)\n",
    "                    trg_end = max(trg, trg_end)\n",
    "                    \n",
    "            \n",
    "            if(trg_end - trg_start > cutoff - 1):\n",
    "                continue\n",
    "\n",
    "            phrase_pairs, A = extract(trg_start, trg_end, src_start, src_end, alignments, trg_aligned, len(trg_words))\n",
    "            \n",
    "            if (phrase_pairs):\n",
    "                extracted_phrases.extend(phrase_pairs)\n",
    "                for a in A:\n",
    "                    extracted_alignments.append(a);\n",
    "            \n",
    "    return extracted_phrases, extracted_alignments\n",
    "\n",
    "\n",
    "\n",
    "\n",
    "\n",
    "def count_reorderings(src_words, trg_words, A, word_based = False, phrase_cutoff = 7, distance_limit = 7):\n",
    "    \n",
    "    phrase_pairs_list = []\n",
    "    \n",
    "    pp, _ = extract_phrases(src_words, trg_words, A, phrase_cutoff)\n",
    "\n",
    "    \n",
    "    if word_based:\n",
    "        next_iterator = A\n",
    "    else:\n",
    "        next_iterator = pp\n",
    "    \n",
    "    \n",
    "    for phrase1  in pp:\n",
    "        [src_s, src_e, trg_s, trg_e] = phrase1\n",
    "        \n",
    "        m, s, dr, dl = 0,0,0,0\n",
    "        m2, s2, dr2, dl2 = 0,0,0,0\n",
    "        distances, distances2 = [0]*(2*distance_limit) , [0]*(2*distance_limit)\n",
    "        \n",
    "       \n",
    "        for a in next_iterator:\n",
    "            \n",
    "            if word_based:\n",
    "                [next_src_s, next_src_e, next_trg_s, next_trg_e] = [a[1], a[1], a[0], a[0]]\n",
    "            else:\n",
    "                [next_src_s, next_src_e, next_trg_s, next_trg_e] = a\n",
    "                \n",
    "\n",
    "            # left to right\n",
    "            #if it is the next word, check if monotone/swap/discontinues to the right\n",
    "            if next_trg_s == trg_e + 1:\n",
    "                if next_src_s == src_e + 1:\n",
    "                    m+=1\n",
    "                    distances[len(distances)/2] += 1\n",
    "                elif src_s == next_src_e + 1:\n",
    "                    s+=1\n",
    "                    distances[len(distances)/2-1] += 1\n",
    "                else: \n",
    "                    if next_src_s > src_e:\n",
    "                        dr += 1\n",
    "                        if(next_src_s - src_e <= distance_limit):\n",
    "                            distances[len(distances)/2 + (next_src_s - src_e) - 1] += 1\n",
    "                    elif next_src_e < src_s:\n",
    "                        dl +=1\n",
    "                            \n",
    "                        if(src_s - next_src_e <= distance_limit):\n",
    "                            distances[len(distances)/2 - (src_s - next_src_e)] += 1\n",
    "\n",
    "            # right to left \n",
    "             #if it is the next word, check if monotone/swap/discontinues to the right\n",
    "            if  next_trg_e == trg_s - 1:\n",
    "                if next_src_e == src_s - 1:\n",
    "                    m2+=1\n",
    "                    distances2[len(distances)/2] += 1\n",
    "                elif next_src_s == src_e + 1:\n",
    "                    s2+=1\n",
    "                    distances2[len(distances)/2-1] += 1\n",
    "                else:\n",
    "                    if next_src_s > src_e:\n",
    "                        dl2 += 1\n",
    "                        if (next_src_s - src_e <= distance_limit):\n",
    "                            distances2[len(distances)/2 - (next_src_s - src_e)] += 1\n",
    "                    elif next_src_e < src_s:\n",
    "                        dr2 += 1\n",
    "                        if (src_s - next_src_e <= distance_limit):\n",
    "                            distances2[len(distances)/2 + (src_s - next_src_e) - 1] += 1\n",
    "\n",
    "        pair = (\" \".join(trg_words[trg_s:trg_e+1]) , \" \".join(src_words[src_s:src_e+1]))        \n",
    "\n",
    "        \n",
    "        phrase_pairs_list.append((pair, [[m,s,dr,dl] , [m2,s2,dr2,dl2], distances, distances2]))\n",
    "         \n",
    "\n",
    "    \n",
    "    return phrase_pairs_list\n",
    "\n",
    "\n",
    "\n",
    "\n"
   ]
  },
  {
   "cell_type": "code",
   "execution_count": 13,
   "metadata": {
    "scrolled": false
   },
   "outputs": [
    {
     "name": "stdout",
     "output_type": "stream",
     "text": [
      "50000 / 50000 (135s)                                                                                               \n",
      "Done!!!\n",
      "Total duration: 135s\n",
      "#unique en phrases: 2277463\n",
      "('in its relations with the', 'in seinen beziehungen zu den')\n",
      "[[0, 0, 2, 0], [0, 0, 0, 0], [0, 0, 0, 0, 0, 0, 0, 0, 0, 1, 1, 0, 0, 0], [0, 0, 0, 0, 0, 0, 0, 0, 0, 0, 0, 0, 0, 0], 1]\n",
      "\n",
      "('be tackled separately', 'gesonderter form durchgef\\xc3\\xbchrt werden')\n",
      "[[0, 0, 0, 0], [0, 1, 0, 0], [0, 0, 0, 0, 0, 0, 0, 0, 0, 0, 0, 0, 0, 0], [0, 0, 0, 0, 0, 0, 1, 0, 0, 0, 0, 0, 0, 0], 1]\n",
      "\n",
      "('other relevant', 'weitere zweckm\\xc3\\xa4\\xc3\\x9fige')\n",
      "[[1, 0, 0, 0], [0, 0, 0, 0], [0, 0, 0, 0, 0, 0, 0, 1, 0, 0, 0, 0, 0, 0], [0, 0, 0, 0, 0, 0, 0, 0, 0, 0, 0, 0, 0, 0], 1]\n",
      "\n",
      "('even', 'auch dann')\n",
      "[[0, 0, 0, 0], [0, 0, 0, 1], [0, 0, 0, 0, 0, 0, 0, 0, 0, 0, 0, 0, 0, 0], [0, 0, 0, 0, 0, 1, 0, 0, 0, 0, 0, 0, 0, 0], 1]\n",
      "\n",
      "('a strong voice in', 'einer starken stimme in')\n",
      "[[1, 0, 0, 0], [1, 0, 0, 0], [0, 0, 0, 0, 0, 0, 0, 1, 0, 0, 0, 0, 0, 0], [0, 0, 0, 0, 0, 0, 0, 1, 0, 0, 0, 0, 0, 0], 1]\n",
      "\n"
     ]
    }
   ],
   "source": [
    "phrase_cutoff = 7;\n",
    "distance_limit = 7;\n",
    "word_based = True;\n",
    "\n",
    "\n",
    "phrase_pairs = dict() \n",
    "\n",
    "start_time = time.time()\n",
    "    \n",
    "for i in range(len(src_file)):\n",
    "    src_words = src_file[i].split()\n",
    "    trg_words = trg_file[i].split()        \n",
    "    alignments = [[int(a) for a in alignment.split('-')] for alignment in aligned_file[i].split()] #convert to list of int pairs\n",
    "    alignments = [(al[1], al[0]) for al in alignments] #reverse their order so that they are (trg,src) instead of (src,trg)\n",
    "    \n",
    "    this_phrase_pairs = count_reorderings(src_words, trg_words, alignments, word_based, phrase_cutoff, distance_limit)\n",
    "    \n",
    "    for (key,value) in this_phrase_pairs:\n",
    "        add_freq_dict(phrase_pairs, key, value)\n",
    "        \n",
    "    #show real time progress\n",
    "    if ((i+1) % (len(src_file) / 100) == 0):\n",
    "        print(' \\r%d / %d (%ds)'%(i+1,len(src_file), time.time() - start_time), end = '')\n",
    "\n",
    "print()\n",
    "print('Done!!!')\n",
    "print('Total duration: %ds'%(time.time() - start_time)) \n",
    "\n",
    "print(\"#unique en phrases: %d\"%(len(phrase_pairs)))\n",
    "\n",
    "for key in phrase_pairs.keys()[10:15]:\n",
    "    print(key)\n",
    "    print(phrase_pairs[key])\n",
    "    print()"
   ]
  },
  {
   "cell_type": "markdown",
   "metadata": {},
   "source": [
    "## Convert counts/frequencies to probabilities"
   ]
  },
  {
   "cell_type": "code",
   "execution_count": 14,
   "metadata": {},
   "outputs": [
    {
     "name": "stdout",
     "output_type": "stream",
     "text": [
      "('in its relations with the', 'in seinen beziehungen zu den')\n",
      "[[0.0, 0.0, 1.0, 0.0], [0, 0, 0, 0], [0, 0, 0, 0, 0, 0, 0, 0, 0, 1, 1, 0, 0, 0], [0, 0, 0, 0, 0, 0, 0, 0, 0, 0, 0, 0, 0, 0], 1]\n",
      "\n",
      "('be tackled separately', 'gesonderter form durchgef\\xc3\\xbchrt werden')\n",
      "[[0, 0, 0, 0], [0.0, 1.0, 0.0, 0.0], [0, 0, 0, 0, 0, 0, 0, 0, 0, 0, 0, 0, 0, 0], [0, 0, 0, 0, 0, 0, 1, 0, 0, 0, 0, 0, 0, 0], 1]\n",
      "\n",
      "('other relevant', 'weitere zweckm\\xc3\\xa4\\xc3\\x9fige')\n",
      "[[1.0, 0.0, 0.0, 0.0], [0, 0, 0, 0], [0, 0, 0, 0, 0, 0, 0, 1, 0, 0, 0, 0, 0, 0], [0, 0, 0, 0, 0, 0, 0, 0, 0, 0, 0, 0, 0, 0], 1]\n",
      "\n",
      "('even', 'auch dann')\n",
      "[[0, 0, 0, 0], [0.0, 0.0, 0.0, 1.0], [0, 0, 0, 0, 0, 0, 0, 0, 0, 0, 0, 0, 0, 0], [0, 0, 0, 0, 0, 1, 0, 0, 0, 0, 0, 0, 0, 0], 1]\n",
      "\n",
      "('a strong voice in', 'einer starken stimme in')\n",
      "[[1.0, 0.0, 0.0, 0.0], [1.0, 0.0, 0.0, 0.0], [0, 0, 0, 0, 0, 0, 0, 1, 0, 0, 0, 0, 0, 0], [0, 0, 0, 0, 0, 0, 0, 1, 0, 0, 0, 0, 0, 0], 1]\n",
      "\n"
     ]
    }
   ],
   "source": [
    "#convert counts to probabilities\n",
    "for key, value in phrase_pairs.items():\n",
    "    \n",
    "    sum_ = numpy.sum(value[0])\n",
    "    if sum_ > 0:\n",
    "        for i in range(4):\n",
    "            phrase_pairs[key][0][i] /= 1.0 * sum_\n",
    "\n",
    "    sum_ = numpy.sum(value[1])\n",
    "    if sum_ > 0:\n",
    "        for i in range(4):\n",
    "            phrase_pairs[key][1][i] /= 1.0* sum_\n",
    "            \n",
    "            \n",
    "\n",
    "for key in phrase_pairs.keys()[10:15]:\n",
    "    print(key)\n",
    "    print(phrase_pairs[key])\n",
    "    print()"
   ]
  },
  {
   "cell_type": "markdown",
   "metadata": {},
   "source": [
    "## Print the output files"
   ]
  },
  {
   "cell_type": "code",
   "execution_count": 15,
   "metadata": {
    "collapsed": true
   },
   "outputs": [],
   "source": [
    "sorted_pairs = sorted(phrase_pairs.keys(), key=operator.itemgetter(1), reverse = False)\n",
    "output_folder = 'C:/Users/Thanos/Desktop/outputs/'"
   ]
  },
  {
   "cell_type": "code",
   "execution_count": 16,
   "metadata": {},
   "outputs": [
    {
     "name": "stdout",
     "output_type": "stream",
     "text": [
      "2277400 / 2277463 (99%) (10s)                                   \n",
      "Done!!!\n"
     ]
    }
   ],
   "source": [
    "c = 0\n",
    "start_time = time.time();\n",
    "\n",
    "if word_based:\n",
    "    filename = 'word_reorderings.txt'\n",
    "else:\n",
    "    filename = 'phrase_reorderings.txt'\n",
    "    \n",
    "    \n",
    "\n",
    "with open(output_folder + filename, 'w') as the_file:\n",
    "    for pair in sorted_pairs: \n",
    "        f = pair[1]\n",
    "        e = pair[0]\n",
    "        \n",
    "        the_file.write('%s ||| %s ||| %f %f %f %f ||| %f %f %f %f \\n' % (f, e, \n",
    "                                                                         phrase_pairs[pair][0][0], \n",
    "                                                                         phrase_pairs[pair][0][1], \n",
    "                                                                         phrase_pairs[pair][0][3], \n",
    "                                                                         phrase_pairs[pair][0][2], \n",
    "                                                                         phrase_pairs[pair][1][0], \n",
    "                                                                         phrase_pairs[pair][1][1], \n",
    "                                                                         phrase_pairs[pair][1][3], \n",
    "                                                                         phrase_pairs[pair][1][2]))\n",
    "\n",
    "        if  c % (len(phrase_pairs) / 100) == 0: \n",
    "            print(' \\r%d / %d (%d%%) (%ds)'%(c,len(sorted_pairs), 100 * c / len(sorted_pairs),time.time() - start_time), end = '')\n",
    "        c +=1\n",
    "\n",
    "print(\"\\nDone!!!\")"
   ]
  },
  {
   "cell_type": "markdown",
   "metadata": {},
   "source": [
    "## Count reorderings and counts captured by phrases internally (uncomment to run)"
   ]
  },
  {
   "cell_type": "code",
   "execution_count": 25,
   "metadata": {},
   "outputs": [
    {
     "name": "stdout",
     "output_type": "stream",
     "text": [
      "50000 / 50000 (267s)                                                                                               \n",
      "Done!!!\n",
      "Total duration: 267s\n",
      "#unique en phrases: 2277463\n"
     ]
    }
   ],
   "source": [
    "# phrase_pairs = dict() \n",
    "\n",
    "# start_time = time.time()\n",
    "    \n",
    "# for i in range(len(src_file)):\n",
    "#     src_words = src_file[i].split()\n",
    "#     trg_words = trg_file[i].split()        \n",
    "#     alignments = [[int(a) for a in alignment.split('-')] for alignment in aligned_file[i].split()] #convert to list of int pairs\n",
    "#     alignments = [(al[1], al[0]) for al in alignments] #reverse their order so that they are (trg,src) instead of (src,trg)\n",
    "    \n",
    "#     pp, pp_a = extract_phrases(src_words, trg_words, alignments, 7)\n",
    "    \n",
    "#     for (phrase, phrase_alignments) in zip(pp,pp_a):\n",
    "#         phrase_src_words = src_words[phrase[0] : phrase[1] + 1]\n",
    "#         phrase_trg_words = trg_words[phrase[2] : phrase[3] + 1]\n",
    "        \n",
    "#         this_phrase_pairs = count_reorderings(phrase_src_words, phrase_trg_words, phrase_alignments, word_based = False)\n",
    "    \n",
    "#         for key,value in this_phrase_pairs.items():\n",
    "#             add_freq_dict(phrase_pairs, key, value)\n",
    "\n",
    "#     #show real time progress\n",
    "#     if ((i+1) % (len(src_file) / 100) == 0):\n",
    "#         print(' \\r%d / %d (%ds)'%(i+1,len(src_file), time.time() - start_time), end = '')\n",
    "\n",
    "# print()\n",
    "# print('Done!!!')\n",
    "# print('Total duration: %ds'%(time.time() - start_time))\n",
    "\n",
    "# print(\"#unique en phrases: %d\"%(len(phrase_pairs)))\n",
    "\n",
    "# for key in phrase_pairs.keys()[10:15]:\n",
    "#     print(key)\n",
    "#     print(phrase_pairs[key])\n",
    "#     print()"
   ]
  },
  {
   "cell_type": "markdown",
   "metadata": {},
   "source": [
    "## Average Variance or standard deviation of reorderings"
   ]
  },
  {
   "cell_type": "code",
   "execution_count": 24,
   "metadata": {},
   "outputs": [
    {
     "name": "stdout",
     "output_type": "stream",
     "text": [
      " ------------------------------------- \n",
      "|       Left-to-Right |  mean |  std  |\n",
      "|-------------------------------------|\n",
      "|            Monotone | 0.513 | 0.483 |\n",
      "|                Swap | 0.013 | 0.108 |\n",
      "|          Disc-right | 0.265 | 0.422 |\n",
      "|           Disc-left | 0.060 | 0.233 |\n",
      " ------------------------------------- \n"
     ]
    },
    {
     "data": {
      "image/png": "[encoded data removed]",
      "text/plain": [
       "<matplotlib.figure.Figure at 0xa0fbacf8>"
      ]
     },
     "metadata": {},
     "output_type": "display_data"
    },
    {
     "name": "stdout",
     "output_type": "stream",
     "text": [
      " ------------------------------------- \n",
      "|       Right-to-Left |  mean |  std  |\n",
      "|-------------------------------------|\n",
      "|            Monotone | 0.536 | 0.483 |\n",
      "|                Swap | 0.021 | 0.138 |\n",
      "|          Disc-right | 0.206 | 0.387 |\n",
      "|           Disc-left | 0.068 | 0.245 |\n",
      " ------------------------------------- \n"
     ]
    },
    {
     "data": {
      "image/png": "[encoded data removed]",
      "text/plain": [
       "<matplotlib.figure.Figure at 0x3b5f7dd8>"
      ]
     },
     "metadata": {},
     "output_type": "display_data"
    }
   ],
   "source": [
    "orientation = 0\n",
    "\n",
    "reordering_names = ['Monotone', 'Swap', 'Disc-right', 'Disc-left']\n",
    "\n",
    "for orientation in [0,1]:\n",
    "    \n",
    "    if orientation == 0: \n",
    "        print(\" ------------------------------------- \")\n",
    "        print(\"|%20s |  mean |  std  |\"%('Left-to-Right') )\n",
    "        print(\"|-------------------------------------|\")\n",
    "    else:\n",
    "        print(\" ------------------------------------- \")\n",
    "        print(\"|%20s |  mean |  std  |\"%('Right-to-Left') )\n",
    "        print(\"|-------------------------------------|\")\n",
    "    \n",
    "    all_means = []\n",
    "    all_stds = []\n",
    "    for reordering_type in range(4):\n",
    "        X = [phrase_pairs[key][orientation][reordering_type] for key in phrase_pairs]\n",
    "        \n",
    "        for number in X:\n",
    "            if number < 0:\n",
    "                print(number)\n",
    "        mean = numpy.mean(X)\n",
    "        std = numpy.std(X)\n",
    "        \n",
    "        all_means.append(mean)\n",
    "        all_stds.append(std)\n",
    "        \n",
    "        print(\"|%20s | %.3f | %.3f |\" % (reordering_names[reordering_type], mean, std))\n",
    "        \n",
    "    \n",
    "    print(\" ------------------------------------- \")\n",
    "    \n",
    "    \n",
    "#     plt.bar(range(4), all_means, align='center')\n",
    "    \n",
    "    plt.errorbar(range(4), all_means, all_stds, linestyle='None', marker='o')\n",
    "    plt.ylabel('Probability')\n",
    "    plt.xticks(range(4),reordering_names)\n",
    "    plt.show()\n",
    "    \n",
    "    \n",
    "    "
   ]
  },
  {
   "cell_type": "markdown",
   "metadata": {},
   "source": [
    "## Phrase length analysis"
   ]
  },
  {
   "cell_type": "code",
   "execution_count": 7,
   "metadata": {},
   "outputs": [
    {
     "name": "stdout",
     "output_type": "stream",
     "text": [
      "            Monotone: ['0.371', '0.560', '0.607', '0.632', '0.646', '0.656', '0.667']\n",
      "                Swap: ['0.045', '0.025', '0.016', '0.011', '0.008', '0.006', '0.005']\n",
      " Discontinuous-right: ['0.223', '0.191', '0.179', '0.171', '0.164', '0.156', '0.147']\n",
      "  Discontinuous-left: ['0.136', '0.066', '0.043', '0.031', '0.024', '0.020', '0.017']\n"
     ]
    },
    {
     "data": {
      "image/png": "[encoded data removed]",
      "text/plain": [
       "<matplotlib.figure.Figure at 0xbb88f98>"
      ]
     },
     "metadata": {},
     "output_type": "display_data"
    },
    {
     "data": {
      "image/png": "[encoded data removed]",
      "text/plain": [
       "<matplotlib.figure.Figure at 0xa158acc0>"
      ]
     },
     "metadata": {},
     "output_type": "display_data"
    },
    {
     "data": {
      "image/png": "[encoded data removed]",
      "text/plain": [
       "<matplotlib.figure.Figure at 0xa1405c50>"
      ]
     },
     "metadata": {},
     "output_type": "display_data"
    },
    {
     "data": {
      "image/png": "[encoded data removed]",
      "text/plain": [
       "<matplotlib.figure.Figure at 0xa0fcc828>"
      ]
     },
     "metadata": {},
     "output_type": "display_data"
    }
   ],
   "source": [
    "length_counters = [0] * phrase_cutoff\n",
    "reordering_probabilities = [[0] * phrase_cutoff for i in range(4)]\n",
    "    \n",
    "reordering_names = ['Monotone', 'Swap', 'Discontinuous-right', 'Discontinuous-left']\n",
    "\n",
    "orientation = 0\n",
    "\n",
    "for phrase, value in phrase_pairs.items():\n",
    "    \n",
    "    trg_phrase_length = len(phrase[0].split())\n",
    "    \n",
    "    length_counters[trg_phrase_length - 1] += 1\n",
    "    \n",
    "    for reordering_type in range(4):\n",
    "        reordering_probabilities[reordering_type][trg_phrase_length - 1] += value[orientation][reordering_type]\n",
    "        \n",
    "\n",
    "for j in range(4):\n",
    "    for i in range(phrase_cutoff):\n",
    "        reordering_probabilities[j][i] /= length_counters[i]\n",
    "        \n",
    "    print(\"%20s:\"%reordering_names[j], [\"{0:0.3f}\".format(i) for i in reordering_probabilities[j]])#\n",
    "    \n",
    "    \n",
    " \n",
    "\n",
    "for i in range(4):\n",
    "    plt.bar(range(phrase_cutoff), reordering_probabilities[i], align='center')\n",
    "    plt.xlabel('Target phrase length')\n",
    "    plt.xticks(range(phrase_cutoff), range(1,phrase_cutoff + 1))\n",
    "    plt.ylabel('Average %s probability' % reordering_names[i])\n",
    "    if orientation == 0:\n",
    "        plt.savefig('%s_length_lr.png' % reordering_names[i])\n",
    "    else:\n",
    "        plt.savefig('%s_length_rl.png' % reordering_names[i])\n",
    "    plt.show()\n",
    "   \n",
    "    "
   ]
  },
  {
   "cell_type": "markdown",
   "metadata": {},
   "source": [
    "## Phrase frequency analysis"
   ]
  },
  {
   "cell_type": "code",
   "execution_count": 134,
   "metadata": {},
   "outputs": [
    {
     "data": {
      "image/png": "[encoded data removed]",
      "text/plain": [
       "<matplotlib.figure.Figure at 0x6cbb4ef0>"
      ]
     },
     "metadata": {},
     "output_type": "display_data"
    },
    {
     "data": {
      "image/png": "[encoded data removed]",
      "text/plain": [
       "<matplotlib.figure.Figure at 0x34e37dd8>"
      ]
     },
     "metadata": {},
     "output_type": "display_data"
    },
    {
     "data": {
      "image/png": "[encoded data removed]",
      "text/plain": [
       "<matplotlib.figure.Figure at 0x34fb85c0>"
      ]
     },
     "metadata": {},
     "output_type": "display_data"
    },
    {
     "data": {
      "image/png": "[encoded data removed]",
      "text/plain": [
       "<matplotlib.figure.Figure at 0x9767acf8>"
      ]
     },
     "metadata": {},
     "output_type": "display_data"
    }
   ],
   "source": [
    "freq2reorderings = {}\n",
    "freq2counts = {}\n",
    "\n",
    "for phrase, value in phrase_pairs.items():\n",
    "    \n",
    "    freq = value[-1]\n",
    "    \n",
    "    if freq in freq2reorderings:\n",
    "        freq2counts[freq] += 1\n",
    "        freq2reorderings[freq] = [x+y for x,y in zip(freq2reorderings[freq] , value[0])]\n",
    "    else:  \n",
    "        freq2counts[freq] = 1\n",
    "        freq2reorderings[freq] = value[0]\n",
    "        \n",
    "for freq, reorderings_probs in freq2reorderings.items():\n",
    "    freq2reorderings[freq] = [reorderings_probs[i] / freq2counts[freq] for i in range(4)]\n",
    "    \n",
    "    \n",
    "    \n",
    "\n",
    "for reordering_type in range(4):\n",
    "    \n",
    "    X = sorted(freq2reorderings.keys())\n",
    "    Y = [freq2reorderings[freq][reordering_type] for freq in X]\n",
    "    \n",
    "    plt.plot(X,Y) \n",
    "    plt.xlabel('Target phrase frequency') \n",
    "    plt.ylabel('Average %s probability' % reordering_names[i]) \n",
    "    plt.show()\n",
    "        "
   ]
  }
 ],
 "metadata": {
  "kernelspec": {
   "display_name": "Python 2",
   "language": "python",
   "name": "python2"
  },
  "language_info": {
   "codemirror_mode": {
    "name": "ipython",
    "version": 2
   },
   "file_extension": ".py",
   "mimetype": "text/x-python",
   "name": "python",
   "nbconvert_exporter": "python",
   "pygments_lexer": "ipython2",
   "version": "2.7.13"
  }
 },
 "nbformat": 4,
 "nbformat_minor": 2
}
