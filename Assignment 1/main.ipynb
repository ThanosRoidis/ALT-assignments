{
 "cells": [
  {
   "cell_type": "code",
   "execution_count": 1,
   "metadata": {
    "collapsed": true
   },
   "outputs": [],
   "source": [
    "import numpy"
   ]
  },
  {
   "cell_type": "code",
   "execution_count": 64,
   "metadata": {
    "collapsed": true
   },
   "outputs": [],
   "source": [
    "def is_phrase(A, src_start, src_end, trg_start, trg_end):\n",
    "    \n",
    "    [rows, cols] = A.shape; \n",
    "    #left\n",
    "    if trg_start > 0:\n",
    "        print 1, A[src_start:src_end+1, :trg_start]\n",
    "        if  A[src_start:src_end+1, :trg_start].any():\n",
    "            return False;\n",
    "    #right\n",
    "    if trg_end < cols:\n",
    "        print 2, A[src_start:src_end+1, trg_end+1:]\n",
    "        if A[src_start:src_end+1, trg_end+1:].any():\n",
    "            return False;\n",
    "    #up \n",
    "    if src_start > 0:\n",
    "        print 3, A[:src_start, trg_start:trg_end+1]\n",
    "        if A[:src_start, trg_start:trg_end+1].any():\n",
    "            return False;\n",
    "    #down  \n",
    "    if src_end < rows:\n",
    "        print 4, A[src_end+1:, trg_start:trg_end+1]\n",
    "        if A[src_end+1:, trg_start:trg_end+1].any():\n",
    "            return False;\n",
    "    \n",
    "    return True"
   ]
  },
  {
   "cell_type": "code",
   "execution_count": 49,
   "metadata": {},
   "outputs": [],
   "source": [
    "def extract(trg_start, trg_end, src_start, src_end, alignments, trg_aligned, trg_len):    \n",
    " \n",
    "    if trg_end < 0 :\n",
    "        return []\n",
    "    \n",
    "    for trg_word, src_word  in alignments:\n",
    "        if ((trg_start <= trg_word <= trg_end) and \n",
    "           (src_word < src_start or src_word > src_end)):  \n",
    "            return []\n",
    "        \n",
    "    E = []\n",
    "    trg_s = trg_start\n",
    "    \n",
    "    while True:\n",
    "        trg_e = trg_end\n",
    "        while True:\n",
    "            E.append( (tuple(trg_words[trg_s:trg_e+1]) , tuple(src_words[src_start:src_end+1])) )\n",
    "            \n",
    "            trg_e += 1\n",
    "            \n",
    "            if trg_e in trg_aligned or trg_e == len(trg_words):\n",
    "                break \n",
    "    \n",
    "        trg_s -= 1\n",
    "        \n",
    "        if trg_s in trg_aligned or trg_s < 0:\n",
    "            break\n",
    "    return E\n",
    "\n",
    "\n",
    "def extract_phrases(src_words,trg_words,alignments):\n",
    "    \n",
    "    trg_aligned = set()\n",
    "    for (trg,_) in alignments:\n",
    "        trg_aligned.add(trg)\n",
    "    \n",
    "    \n",
    "    extracted_phrases = []\n",
    "    for src_start in range(len(src_words)):\n",
    "        for src_end in range(src_start, len(src_words)):\n",
    "\n",
    "            trg_start = len(trg_words)\n",
    "            trg_end = 0\n",
    "            for  (trg,src) in alignments: \n",
    "                if src_start <= src <= src_end:\n",
    "                    trg_start = min(trg, trg_start)\n",
    "                    trg_end = max(trg, trg_end)\n",
    "\n",
    "            phrase_pairs = extract(trg_start, trg_end, src_start, src_end, alignments, trg_aligned, len(trg_words))\n",
    "            if (phrase_pairs):\n",
    "                extracted_phrases.extend(phrase_pairs)\n",
    "            \n",
    "    return extracted_phrases"
   ]
  },
  {
   "cell_type": "code",
   "execution_count": 51,
   "metadata": {},
   "outputs": [],
   "source": [
    "# #(target, source) - (germanika, agglika)\n",
    "# A = \"0-0 1-1 1-2 2-3\"\n",
    "# en = \"resumption of the session\"\n",
    "# de = \"wiederaufnahme der sitzungsperiode\"\n",
    "\n",
    "# en_words = en.split();\n",
    "# de_words = de.split();\n",
    "\n",
    "# alignment_matrix = numpy.zeros((len(en_words),len(de_words)), dtype=int)\n",
    "\n",
    "# for alignment in A.split():\n",
    "#     [j, i] = alignment.split(\"-\")\n",
    "#     i = int(i)\n",
    "#     j = int(j)\n",
    "#     alignment_matrix[i,j] = 1\n",
    "    \n",
    "# alignment_matrix\n",
    "\n",
    "src_words = \"michael assumes that he will stay in the house\".split()\n",
    "trg_words = \"michael geht davon aus , dass er im haus bleibt\".split()\n",
    "alignments = [(0,0), (1,1), (2,1), (3,1), (5,2), (6,3), (9,4), (9,5), (7,6), (7,7), (8,8)]\n",
    "\n",
    "# global_A = numpy.zeros((len(src_words),len(trg_words)), dtype=int)\n",
    "# for alignment in alignments:\n",
    "#     [j, i] = alignment \n",
    "#     global_A[i,j] = 1\n",
    "    \n",
    "# alignment_matrix\n",
    "\n",
    "# BP = extract_phrases(src_words, trg_words, alignments)\n",
    "# for c,bp in enumerate(BP):\n",
    "#     print c+1, '-', bp\n",
    "    \n",
    "# for pair in phrase_pairs:\n",
    "#     if pair in freqs:\n",
    "#         freqs[pair] +=1\n",
    "#     else:\n",
    "#         freqs[pair] = 1"
   ]
  },
  {
   "cell_type": "code",
   "execution_count": null,
   "metadata": {
    "collapsed": true
   },
   "outputs": [],
   "source": []
  }
 ],
 "metadata": {
  "kernelspec": {
   "display_name": "Python 2",
   "language": "python",
   "name": "python2"
  },
  "language_info": {
   "codemirror_mode": {
    "name": "ipython",
    "version": 2
   },
   "file_extension": ".py",
   "mimetype": "text/x-python",
   "name": "python",
   "nbconvert_exporter": "python",
   "pygments_lexer": "ipython2",
   "version": "2.7.13"
  }
 },
 "nbformat": 4,
 "nbformat_minor": 2
}
