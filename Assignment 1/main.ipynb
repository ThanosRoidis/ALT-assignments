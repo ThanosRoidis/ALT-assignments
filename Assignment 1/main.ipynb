{
 "cells": [
  {
   "cell_type": "code",
   "execution_count": 37,
   "metadata": {
    "collapsed": true
   },
   "outputs": [],
   "source": [
    "import numpy\n",
    "import time\n",
    "import pickle\n",
    "from __future__ import print_function"
   ]
  },
  {
   "cell_type": "code",
   "execution_count": 2,
   "metadata": {},
   "outputs": [],
   "source": [
    "def load_file(filepath):\n",
    "    \n",
    "    with open(filepath, 'r') as f:\n",
    "        file = f.readlines()\n",
    "    return file\n",
    "\n",
    "src_file = load_file('data/file.en')\n",
    "trg_file = load_file('data/file.de')\n",
    "aligned_file = load_file('data/file.aligned')"
   ]
  },
  {
   "cell_type": "code",
   "execution_count": 3,
   "metadata": {
    "collapsed": true
   },
   "outputs": [],
   "source": [
    "def extract(trg_start, trg_end, src_start, src_end, alignments, trg_aligned, trg_len):    \n",
    " \n",
    "    if trg_end < 0 :\n",
    "        return []\n",
    "    \n",
    "    for trg_word, src_word  in alignments:\n",
    "        if ((trg_start <= trg_word <= trg_end) and \n",
    "           (src_word < src_start or src_word > src_end)):  \n",
    "            return []\n",
    "        \n",
    "    E = []\n",
    "    trg_s = trg_start\n",
    "    \n",
    "    while True:\n",
    "        trg_e = trg_end\n",
    "        while True:\n",
    "            E.append( (tuple(trg_words[trg_s:trg_e+1]) , tuple(src_words[src_start:src_end+1])) )\n",
    "            \n",
    "            trg_e += 1\n",
    "            \n",
    "            if trg_e in trg_aligned or trg_e == len(trg_words):\n",
    "                break \n",
    "    \n",
    "        trg_s -= 1\n",
    "        \n",
    "        if trg_s in trg_aligned or trg_s < 0:\n",
    "            break\n",
    "    return E\n",
    "\n",
    "\n",
    "def extract_phrases(src_words,trg_words,alignments):\n",
    "    \n",
    "    trg_aligned = set()\n",
    "    for (trg,_) in alignments:\n",
    "        trg_aligned.add(trg)\n",
    "    \n",
    "    \n",
    "    extracted_phrases = []\n",
    "    for src_start in range(len(src_words)):\n",
    "        for src_end in range(src_start, len(src_words)):\n",
    "\n",
    "            trg_start = len(trg_words)\n",
    "            trg_end = 0\n",
    "            for  (trg,src) in alignments: \n",
    "                if src_start <= src <= src_end:\n",
    "                    trg_start = min(trg, trg_start)\n",
    "                    trg_end = max(trg, trg_end)\n",
    "\n",
    "            phrase_pairs = extract(trg_start, trg_end, src_start, src_end, alignments, trg_aligned, len(trg_words))\n",
    "            if (phrase_pairs):\n",
    "                extracted_phrases.extend(phrase_pairs)\n",
    "            \n",
    "    return extracted_phrases"
   ]
  },
  {
   "cell_type": "code",
   "execution_count": 4,
   "metadata": {},
   "outputs": [],
   "source": [
    "def add_freq_dict(dictionary, item):\n",
    "    if item in dictionary:\n",
    "        dictionary[item] += 1\n",
    "    else:\n",
    "        dictionary[item] = 1\n",
    "\n",
    "src_words = \"michael assumes that he will stay in the house\".split()\n",
    "trg_words = \"michael geht davon aus , dass er im haus bleibt\".split()\n",
    "alignments = [(0,0), (1,1), (2,1), (3,1), (5,2), (6,3), (9,4), (9,5), (7,6), (7,7), (8,8)]\n",
    " \n",
    "    \n",
    "    \n",
    "BP = extract_phrases(src_words, trg_words, alignments)\n",
    "    \n",
    "freq_pairs = dict()\n",
    "freq_src = dict()\n",
    "freq_trg = dict()\n",
    "    \n",
    "for pair in BP:\n",
    "    add_freq_dict(freq_pairs,pair)\n",
    "    add_freq_dict(freq_trg, pair[0])\n",
    "    add_freq_dict(freq_src, pair[1])"
   ]
  },
  {
   "cell_type": "code",
   "execution_count": 28,
   "metadata": {},
   "outputs": [
    {
     "name": "stdout",
     "output_type": "stream",
     "text": [
      "50000 / 50000 (585 s)                                                                                                                                                                                                                                                                                                                                                                                                                                                                                                                                                                                                                                                                                                                                                                                                                                                                                                                                                                                                                                                                                                                                                                                                                                                                                                                                                                                                                                                                                                                                                                                                                                                                           "
     ]
    }
   ],
   "source": [
    "freq_pairs = dict()\n",
    "freq_src = dict()\n",
    "freq_trg = dict()\n",
    "    \n",
    "for pair in BP:\n",
    "    add_freq_dict(freq_pairs,pair)\n",
    "    add_freq_dict(freq_trg, pair[0])\n",
    "    add_freq_dict(freq_src, pair[1])\n",
    "    \n",
    "\n",
    "start_time = time.time()\n",
    "    \n",
    "for i in range(len(src_file)):\n",
    "    src_words = src_file[i].split()\n",
    "    trg_words = trg_file[i].split()        \n",
    "    alignments = [[int(a) for a in alignment.split('-')] for alignment in aligned_file[i].split()]\n",
    "    \n",
    "    BP = extract_phrases(src_words, trg_words, alignments)\n",
    "    \n",
    "    for pair in BP:\n",
    "        add_freq_dict(freq_pairs,pair)\n",
    "        add_freq_dict(freq_trg, pair[0])\n",
    "        add_freq_dict(freq_src, pair[1])\n",
    "        \n",
    "    print(' \\r%d / %d (%d s)'%(i+1,len(src_file), time.time() - start_time), end = '')\n",
    "    \n",
    "print('Done!!!\\nTotal duration: %d'%(time.time() - start_time))"
   ]
  },
  {
   "cell_type": "code",
   "execution_count": 38,
   "metadata": {},
   "outputs": [],
   "source": [
    "with open(\"data/freq_src\", 'wb') as file:\n",
    "    pickle.dump(freq_src, file)\n",
    "\n",
    "with open(\"data/freq_trg\", 'wb') as file:\n",
    "    pickle.dump(freq_trg, file)\n",
    "\n",
    "with open(\"data/freq_pairs\", 'wb') as file:\n",
    "    pickle.dump(freq_pairs, file)\n",
    "        "
   ]
  },
  {
   "cell_type": "code",
   "execution_count": 43,
   "metadata": {},
   "outputs": [],
   "source": [
    "import operator\n",
    "sorted_freq_src = sorted(freq_src.items(), key=operator.itemgetter(1), reverse = True)\n",
    "sorted_freq_trg = sorted(freq_trg.items(), key=operator.itemgetter(1), reverse = True)\n",
    "sorted_freq_pairs = sorted(freq_pairs.items(), key=operator.itemgetter(1), reverse = True)"
   ]
  }
 ],
 "metadata": {
  "kernelspec": {
   "display_name": "Python 2",
   "language": "python",
   "name": "python2"
  },
  "language_info": {
   "codemirror_mode": {
    "name": "ipython",
    "version": 2
   },
   "file_extension": ".py",
   "mimetype": "text/x-python",
   "name": "python",
   "nbconvert_exporter": "python",
   "pygments_lexer": "ipython2",
   "version": "2.7.13"
  }
 },
 "nbformat": 4,
 "nbformat_minor": 2
}
